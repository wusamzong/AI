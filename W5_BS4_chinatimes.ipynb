{
 "cells": [
  {
   "cell_type": "code",
   "execution_count": 23,
   "metadata": {},
   "outputs": [
    {
     "name": "stdout",
     "output_type": "stream",
     "text": [
      "馬英九台北市長政績如何？資料一攤開酸民全傻了 - 政治\n",
      "網址: https://www.chinatimes.com/realtimenews/20201014001824-260407?ctrack=mo_main_hot_p01\n",
      "罷韓後高雄變冷清？他「1張空拍圖」曝現況 網大驚 - 政治\n",
      "網址: https://www.chinatimes.com/realtimenews/20201013005450-260407?ctrack=mo_main_hot_p02\n",
      "林子祥73歲近況曝光 生日同框愛妻葉蒨文「竟像父女」 - 娛樂\n",
      "網址: https://www.chinatimes.com/realtimenews/20201013003240-260404?ctrack=mo_main_hot_p03\n",
      "韓國瑜手上握有「最強血滴子」？軍校校友會理事長不藏了 - 政治\n",
      "網址: https://www.chinatimes.com/realtimenews/20201014002371-260407?ctrack=mo_main_hot_p04\n",
      "得知韓國瑜確定被罷免 李四川立刻做了這件事 - 政治\n",
      "網址: https://www.chinatimes.com/realtimenews/20201014001381-260407?ctrack=mo_main_hot_p05\n",
      "韓國瑜留下爛攤子？黃捷要高雄對「這55位孩子」負責 - 政治\n",
      "網址: https://www.chinatimes.com/realtimenews/20201014001466-260407?ctrack=mo_main_hot_p06\n",
      "韓國瑜喊「風雨飄搖」藏玄機？高雄議長罕吐真言 - 政治\n",
      "網址: https://www.chinatimes.com/realtimenews/20201014000737-260407?ctrack=mo_main_hot_p07\n",
      "「根、莖、葉、種子」能量排行榜　根據體質吃對食物\n",
      "網址: https://www.chinatimes.com/realtimenews/20201014004020-260418?ctrack=mo_main_rtime_p01\n",
      "金正恩命名的大學首次在媒體亮相\n",
      "網址: https://www.chinatimes.com/realtimenews/20201014004022-260408?ctrack=mo_main_rtime_p02\n",
      "尼加拉瓜新任駐台大使 曾為台灣獎學金生\n",
      "網址: https://www.chinatimes.com/realtimenews/20201014004014-260407?ctrack=mo_main_rtime_p03\n",
      "疫苗冷鏈建置方案 陳時中：本周就出爐\n",
      "網址: https://www.chinatimes.com/realtimenews/20201014003984-260405?ctrack=mo_main_rtime_p04\n",
      "櫻花妹掀「777咀嚼法」減肥風潮！改善吃飯習慣就能輕鬆瘦身\n",
      "網址: https://www.chinatimes.com/realtimenews/20201014004004-260405?ctrack=mo_main_rtime_p05\n",
      "滬指跌18點 止三連升\n",
      "網址: https://www.chinatimes.com/realtimenews/20201014003987-260410?ctrack=mo_main_rtime_p06\n",
      "大陸對美聚氯乙烯反補貼調查\n",
      "網址: https://www.chinatimes.com/realtimenews/20201014003986-260410?ctrack=mo_main_rtime_p07\n",
      "議員批公務員廉潔是基本 還要選楷模？中市政風處長：行之有年\n",
      "網址: https://www.chinatimes.com/realtimenews/20201014003973-260407?ctrack=mo_main_rtime_p08\n",
      "二維層狀半導體新發現 中興大學登國際期刊\n",
      "網址: https://www.chinatimes.com/realtimenews/20201014003978-260405?ctrack=mo_main_rtime_p09\n",
      "兩岸DRAM整合受挫！高啟全再掀震撼 在紫光看到什麼？\n",
      "網址: https://www.chinatimes.com/realtimenews/20201014003982-260410?ctrack=mo_main_rtime_p10\n",
      "信義房屋獲天下企業公民獎大型企業前三強 社會參與分...\n",
      "網址: https://www.chinatimes.com/realtimenews/20200904004695-260410?chdtv\n",
      "人才培育兼重專業與品德 信義房屋屢獲國內外CSR獎肯定\n",
      "網址: https://www.chinatimes.com/realtimenews/20201003000013-260410\n",
      "信義房屋「信義徵幸福」短片網路票選 人氣最高可得1萬...\n",
      "網址: https://www.chinatimes.com/realtimenews/20200806003809-260410?chdtv\n",
      "響應環保、支持小農 信義房屋普渡送平安米為社區祈福\n",
      "網址: https://www.chinatimes.com/realtimenews/20200908001699-260410\n",
      "旺House》 房市真的回溫了！內政部鐵證曝光\n",
      "網址: https://www.chinatimes.com/realtimenews/20200825005901-260410\n",
      "旺House》 電商衝擊！投資億元店面下場超慘\n",
      "網址: https://www.chinatimes.com/realtimenews/20200825005000-260410\n",
      "旺House》【崴爺愛看房】捷運公園宅潛力股！移居、宜...\n",
      "網址: https://www.chinatimes.com/realtimenews/20200825000013-260410\n",
      "旺House》必選「合雄5號花園」，超值入主桃園司法特區\n",
      "網址: https://www.chinatimes.com/realtimenews/20200825001596-260410\n"
     ]
    }
   ],
   "source": [
    "# Chinatimes頭條新聞\n",
    "import requests\n",
    "from bs4 import BeautifulSoup\n",
    "\n",
    "# 下載 Chinatimes 首頁內容\n",
    "url = 'https://www.chinatimes.com/'\n",
    "r = requests.get(url)\n",
    "\n",
    "# 確認是否下載成功\n",
    "if r.status_code == requests.codes.ok: #確認狀態碼\n",
    "    soup = BeautifulSoup(r.text, 'html.parser')\n",
    "    title_tags = soup.find_all('h4',class_=\"title\")\n",
    "    \n",
    "    for tag in title_tags:\n",
    "        print(tag.string)\n",
    "        print('網址: '+tag.find('a').get('href'))\n",
    "        \n",
    "        \n",
    "        #print('網址:'+ str(tag.string))\n",
    "\n",
    "\n",
    "  # 以 CSS 的 class 抓出各類頭條新聞\n",
    "  \n",
    "  \n",
    "  #for title in titles:\n",
    "   # print(title)\n",
    "    #print()\n",
    "\n",
    "# 讀取所有 <b>的標籤內容\n",
    "#print(soup.find('b'))\n",
    "\n",
    "#讀取所有<a>的標籤內容\n",
    "#print(soup.find_all('a'))"
   ]
  },
  {
   "cell_type": "code",
   "execution_count": null,
   "metadata": {},
   "outputs": [],
   "source": []
  },
  {
   "cell_type": "code",
   "execution_count": null,
   "metadata": {},
   "outputs": [],
   "source": []
  }
 ],
 "metadata": {
  "kernelspec": {
   "display_name": "Python 3",
   "language": "python",
   "name": "python3"
  },
  "language_info": {
   "codemirror_mode": {
    "name": "ipython",
    "version": 3
   },
   "file_extension": ".py",
   "mimetype": "text/x-python",
   "name": "python",
   "nbconvert_exporter": "python",
   "pygments_lexer": "ipython3",
   "version": "3.6.5"
  }
 },
 "nbformat": 4,
 "nbformat_minor": 2
}
