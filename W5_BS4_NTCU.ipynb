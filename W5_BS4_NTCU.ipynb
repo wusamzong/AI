{
 "cells": [
  {
   "cell_type": "code",
   "execution_count": 2,
   "metadata": {},
   "outputs": [
    {
     "name": "stdout",
     "output_type": "stream",
     "text": [
      "網址:None->index.php\n",
      "網址:最新消息->news.php\n",
      "網址:系所簡介->#\n",
      "網址:None->intro.php#intro\n",
      "網址:系所特色->intro.php?i=1#intro01\n",
      "網址:未來發展->intro.php?i=2#intro01\n",
      "網址:環境與設備->intro.php?i=3#intro01\n",
      "網址:None->intro.php#director\n",
      "網址:歷屆系主任->intro.php?j=1#intro02\n",
      "網址:專任教師->intro.php?j=2#intro02\n",
      "網址:兼任教師->intro.php?j=3#intro02\n",
      "網址:None->intro.php#rule1\n",
      "網址:系務相關法規->intro.php?k=1#intro03\n",
      "網址:大學部相關法規->intro.php?k=2#intro03\n",
      "網址:研究所相關法規->intro.php?k=3#intro03\n",
      "網址:None->intro.php#staff\n",
      "網址:行政人員->intro.php?l=1#intro04\n",
      "網址:系所位置->intro.php?l=2#intro04\n",
      "網址:招生訊息->#\n",
      "網址:大學部\t\t\t\t\t\t\t\t\t\t\t\t\t\t\t->article_list.php?aid=3&bid=5\n",
      "網址:碩士班\t\t\t\t\t\t\t\t\t\t\t\t\t\t\t->article_list.php?aid=3&bid=6\n",
      "網址:碩士在職專班\t\t\t\t\t\t\t\t\t\t\t\t\t\t\t->article_list.php?aid=3&bid=7\n",
      "網址:課程資訊->#\n",
      "網址:規劃介紹\t\t\t\t\t\t\t\t\t\t\t\t\t\t\t->article_list.php?aid=4&bid=8\n",
      "網址:修業規定\t\t\t\t\t\t\t\t\t\t\t\t\t\t\t->article_list.php?aid=4&bid=9\n",
      "網址:None->article_list.php?aid=4&bid=10&cid=12\n",
      "網址:課程地圖->article_list.php?aid=4&bid=10&cid=12\n",
      "網址:課程架構->article_list.php?aid=4&bid=10&cid=13\n",
      "網址:課程大綱->article_list.php?aid=4&bid=10&cid=14\n",
      "網址:群組課程->article_list.php?aid=4&bid=10&cid=15\n",
      "網址:None->article_list.php?aid=4&bid=11&cid=16\n",
      "網址:課程地圖->article_list.php?aid=4&bid=11&cid=16\n",
      "網址:課程架構->article_list.php?aid=4&bid=11&cid=17\n",
      "網址:課程大綱->article_list.php?aid=4&bid=11&cid=18\n",
      "網址:None->article_list.php?aid=4&bid=12&cid=19\n",
      "網址:課程地圖->article_list.php?aid=4&bid=12&cid=19\n",
      "網址:課程架構->article_list.php?aid=4&bid=12&cid=20\n",
      "網址:課程大綱->article_list.php?aid=4&bid=12&cid=21\n",
      "網址:學習成果->#\n",
      "網址:None->article_list.php?aid=5&bid=13\n",
      "網址:證照->article_list.php?aid=5&bid=13&cid=22\n",
      "網址:競賽->article_list.php?aid=5&bid=13&cid=23\n",
      "網址:升學->article_list.php?aid=5&bid=13&cid=24\n",
      "網址:活動花絮\t\t\t\t\t\t\t\t\t\t\t\t\t\t\t->article_list.php?aid=5&bid=14\n",
      "網址:作品展覽\t\t\t\t\t\t\t\t\t\t\t\t\t\t\t->article_list.php?aid=5&bid=15\n",
      "網址:假期實習\t\t\t\t\t\t\t\t\t\t\t\t\t\t\t->article_list.php?aid=5&bid=16\n",
      "網址:專題製作\t\t\t\t\t\t\t\t\t\t\t\t\t\t\t->article_list.php?aid=5&bid=17\n",
      "網址:參訪交流\t\t\t\t\t\t\t\t\t\t\t\t\t\t\t->article_list.php?aid=5&bid=18\n",
      "網址:下載專區->#\n",
      "網址:大學部\t\t\t\t\t\t\t\t\t\t\t\t\t\t\t->article_list.php?aid=6&bid=19\n",
      "網址:研究所\t\t\t\t\t\t\t\t\t\t\t\t\t\t\t->article_list.php?aid=6&bid=20\n",
      "網址:登入系統->user/\n",
      "網址:JOIN US->article_list.php?aid=3&bid=5\n",
      "網址:JOIN US->article_list.php?aid=3&bid=5\n"
     ]
    }
   ],
   "source": [
    "import requests\n",
    "from bs4 import BeautifulSoup\n",
    "url = 'https://dct.ntcu.edu.tw/'\n",
    "html = requests.get(url)\n",
    "html.encoding=\"utf-8\"\n",
    "if html.status_code == requests.codes.ok: #確認狀態碼\n",
    "    soup = BeautifulSoup(html.text, 'html.parser')\n",
    "    a_tags = soup.find_all('a')\n",
    "    for tag in a_tags:\n",
    "        print('網址:'+ str(tag.string)+'->'+ tag.get('href'))"
   ]
  },
  {
   "cell_type": "code",
   "execution_count": null,
   "metadata": {},
   "outputs": [],
   "source": []
  }
 ],
 "metadata": {
  "kernelspec": {
   "display_name": "Python 3",
   "language": "python",
   "name": "python3"
  },
  "language_info": {
   "codemirror_mode": {
    "name": "ipython",
    "version": 3
   },
   "file_extension": ".py",
   "mimetype": "text/x-python",
   "name": "python",
   "nbconvert_exporter": "python",
   "pygments_lexer": "ipython3",
   "version": "3.6.5"
  }
 },
 "nbformat": 4,
 "nbformat_minor": 2
}
