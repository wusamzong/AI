{
 "cells": [
  {
   "cell_type": "code",
   "execution_count": 2,
   "metadata": {},
   "outputs": [
    {
     "name": "stderr",
     "output_type": "stream",
     "text": [
      "Building prefix dict from C:\\Users\\user\\PythonWork\\dictionary\\dict.txt.big.txt ...\n",
      "Loading model from cache C:\\Users\\user\\AppData\\Local\\Temp\\jieba.u2c5f64f129614ee2ae476ca059f9e4f4.cache\n",
      "Loading model cost 1.007 seconds.\n",
      "Prefix dict has been built successfully.\n"
     ]
    },
    {
     "data": {
      "text/plain": [
       "<Figure size 600x600 with 1 Axes>"
      ]
     },
     "metadata": {},
     "output_type": "display_data"
    },
    {
     "data": {
      "text/plain": [
       "<wordcloud.wordcloud.WordCloud at 0x26412197ac8>"
      ]
     },
     "execution_count": 2,
     "metadata": {},
     "output_type": "execute_result"
    }
   ],
   "source": [
    "from PIL import Image\n",
    "import matplotlib.pyplot as plt\n",
    "from wordcloud import WordCloud\n",
    "import jieba\n",
    "import numpy as np\n",
    "from collections import Counter\n",
    "\n",
    "text = open('novel.txt', \"r\",encoding=\"utf-8\").read()  #讀文字資料\n",
    " \n",
    "jieba.set_dictionary('dictionary/dict.txt.big.txt')\n",
    "with open('dictionary/stopword.txt', 'r', encoding='utf-8-sig') as f:  #設定停用詞\n",
    "#with open('dictionary/stopWord_cloudmod.txt', 'r', encoding='utf-8-sig') as f:  #設定停用詞\n",
    "    stops = f.read().split('\\n')   \n",
    "terms = []  #儲存字詞\n",
    "for t in jieba.cut(text, cut_all=False):  #拆解句子為字詞\n",
    "    if t not in stops:  #不是停用詞\n",
    "        terms.append(t)\n",
    "diction = Counter(terms)\n",
    "# 可列印詞的統計數量\n",
    "#print(diction)\n",
    "\n",
    "#font = \"C:\\\\Windows\\\\Fonts\\\\simsun.ttc\"  #設定字型(宋體)\n",
    "font = \"msjh.ttf\"  #設定字型(宋體)\n",
    "#wordcloud = WordCloud(font_path=\"C:\\\\Windows\\\\Fonts\\\\simsun.ttc\")\n",
    "\n",
    "mask = np.array(Image.open(\"star.png\"))  #設定文字雲形狀 \n",
    "#wordcloud = WordCloud(font_path=font) \n",
    "wordcloud = WordCloud(background_color=\"white\",mask=mask, font_path=font)  #背景顏色預設黑色,改為白色,字體為宋體\n",
    "wordcloud.generate_from_frequencies(diction)  #產生文字雲\n",
    "\n",
    "#產生圖片\n",
    "plt.figure(figsize=(6,6))\n",
    "plt.imshow(wordcloud)\n",
    "plt.axis(\"off\")\n",
    "plt.show()\n",
    "\n",
    "wordcloud.to_file(\"news_Wordcloud.png\")"
   ]
  },
  {
   "cell_type": "code",
   "execution_count": null,
   "metadata": {},
   "outputs": [],
   "source": []
  }
 ],
 "metadata": {
  "kernelspec": {
   "display_name": "Python 3",
   "language": "python",
   "name": "python3"
  },
  "language_info": {
   "codemirror_mode": {
    "name": "ipython",
    "version": 3
   },
   "file_extension": ".py",
   "mimetype": "text/x-python",
   "name": "python",
   "nbconvert_exporter": "python",
   "pygments_lexer": "ipython3",
   "version": "3.6.5"
  }
 },
 "nbformat": 4,
 "nbformat_minor": 2
}
