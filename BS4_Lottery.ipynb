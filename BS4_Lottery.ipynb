{
 "cells": [
  {
   "cell_type": "code",
   "execution_count": 11,
   "metadata": {},
   "outputs": [
    {
     "name": "stdout",
     "output_type": "stream",
     "text": [
      "開出順序:05 28 39 17 18 30 \n",
      "大小順序05 17 18 28 30 39 \n",
      "第二區:13 \n"
     ]
    }
   ],
   "source": [
    "import requests\n",
    "from bs4 import BeautifulSoup\n",
    "import re\n",
    "\n",
    "url = 'https://www.taiwanlottery.com.tw'\n",
    "html = requests.get(url)\n",
    "sp = BeautifulSoup(html.text, 'html.parser')\n",
    "sp.prettify()\n",
    "data1 = sp.find_all('div',{\"class\":\"contents_box02\"})\n",
    "data2 = data1[2].find_all('div',{\"class\":\"ball_tx ball_yellow\"})\n",
    "\n",
    "print('開出順序:',end=\"\")\n",
    "for n in range(0,6):\n",
    "    print(data2[n].string,end=\"\")\n",
    "print();\n",
    "print('大小順序',end=\"\")\n",
    "for n in range(6,len(data2)):\n",
    "    print(data2[n].string,end=\"\")\n",
    "print();\n",
    "red = data1[2].find('div',{'class':'ball_red'})\n",
    "print(\"第二區:{}\".format(red.text));\n",
    "#data2 = data1[0]\n"
   ]
  },
  {
   "cell_type": "code",
   "execution_count": null,
   "metadata": {},
   "outputs": [],
   "source": []
  },
  {
   "cell_type": "code",
   "execution_count": null,
   "metadata": {},
   "outputs": [],
   "source": []
  }
 ],
 "metadata": {
  "kernelspec": {
   "display_name": "Python 3",
   "language": "python",
   "name": "python3"
  },
  "language_info": {
   "codemirror_mode": {
    "name": "ipython",
    "version": 3
   },
   "file_extension": ".py",
   "mimetype": "text/x-python",
   "name": "python",
   "nbconvert_exporter": "python",
   "pygments_lexer": "ipython3",
   "version": "3.6.5"
  }
 },
 "nbformat": 4,
 "nbformat_minor": 2
}
